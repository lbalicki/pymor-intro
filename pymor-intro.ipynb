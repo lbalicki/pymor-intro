{
 "cells": [
  {
   "cell_type": "markdown",
   "metadata": {},
   "source": [
    "# Introduction to pyMOR\n",
    "\n",
    "## What is pyMOR?\n",
    "\n",
    "* #### A software library for building model order reduction applications with *Python*\n",
    "* #### Free and open source\n",
    "\n",
    "## How did pyMOR start?\n",
    "\n",
    "* #### Project started in October 2012\n",
    "* #### Founding members were based at the University of Münster, Germany\n",
    "* #### Started off as a library for applying the reduced-basis method\n",
    "* #### Original motivation: Decouple MOR algorithms from large-scale models\n",
    "    * #### Proprietary code for battery simulation models could not be shared with MOR experts\n",
    "    * #### Can we still do model reduction without access to the model?\n",
    "\n",
    "<table width=70%>\n",
    "    <tr>\n",
    "        <td><img src=\"figs/renefritze.jpg\"></td>\n",
    "        <td><img src=\"figs/sdrave.jpg\"></td>\n",
    "        <td><img src=\"figs/ftschindler.jpg\"></td>\n",
    "    </tr>\n",
    "    <tr>\n",
    "        <td>René Fritze</td>\n",
    "        <td>Stephan Rave</td>\n",
    "        <td>Felix Schindler</td>\n",
    "    </tr>\n",
    "</table>\n",
    "<br>"
   ]
  },
  {
   "cell_type": "markdown",
   "metadata": {
    "vscode": {
     "languageId": "plaintext"
    }
   },
   "source": [
    "\n",
    "\n",
    "\n",
    "## Where is pyMOR now?\n",
    "\n",
    "* #### Over 40 people have contributed, with 5 designated main developers\n",
    "* #### Over 25k lines of code\n",
    "* #### Annual pyMOR school events with lectures and project support\n",
    "* #### Linear algebra and MOR algorithms from various research communities:\n",
    "    * #### Randomized linear algebra (SVD, eigenvalue solvers, ...)\n",
    "    * #### Balanced Truncation\n",
    "    * #### IRKA\n",
    "    * #### AAA/Loewner\n",
    "    * #### Reduced basis method (RBM)\n",
    "    * #### POD\n",
    "    * #### ...\n",
    "\n",
    "<table width=70%>\n",
    "    <tr>\n",
    "        <td><img src=\"figs/pmli.jpg\"></td>\n",
    "        <td><img src=\"figs/HenKlei.jpg\"></td>\n",
    "        <td><img src=\"figs/sdrave.jpg\"></td>\n",
    "        <td><img src=\"figs/ftschindler.jpg\"></td>\n",
    "        <td><img src=\"figs/lbalicki.jpg\"></td>\n",
    "    </tr>\n",
    "    <tr>\n",
    "        <td>Petar Mlinarić</td>\n",
    "        <td>Hendrik Kleikamp</td>\n",
    "        <td>Stephan Rave</td>\n",
    "        <td>Felix Schindler</td>\n",
    "        <td>Linus Balicki</td>\n",
    "    </tr>\n",
    "</table>\n",
    "<br>\n",
    "<br>\n",
    "<br>"
   ]
  },
  {
   "cell_type": "markdown",
   "metadata": {},
   "source": [
    "## Imports and Settings"
   ]
  },
  {
   "cell_type": "code",
   "execution_count": null,
   "metadata": {
    "vscode": {
     "languageId": "plaintext"
    }
   },
   "outputs": [],
   "source": [
    "import numpy as np\n",
    "import scipy.linalg as spla\n",
    "import matplotlib.pyplot as plt\n",
    "from pymor.core.logger import set_log_levels\n",
    "\n",
    "plt.rcParams['axes.grid'] = True\n",
    "set_log_levels({\n",
    "    'pymor.algorithms.gram_schmidt.gram_schmidt': 'WARNING',\n",
    "    'pymor.reductors.basic.LTIPGReductor': 'WARNING',\n",
    "})"
   ]
  },
  {
   "cell_type": "markdown",
   "metadata": {},
   "source": [
    "## pyMOR Structure"
   ]
  },
  {
   "cell_type": "markdown",
   "metadata": {},
   "source": [
    "<img src=\"figs/pyMOR-structure.jpg\">"
   ]
  },
  {
   "cell_type": "markdown",
   "metadata": {},
   "source": [
    "## LTI Models in pyMOR\n",
    "\n",
    "#### How do we create a basic LTI model?\n",
    "\n",
    "$$\n",
    "\\begin{align*}\n",
    "\\dot{\\mathbf{x}}(t) &= \\mathbf{A} \\mathbf{x}(t) + \\mathbf{B} u(t) \\\\ \n",
    "y(t) &= \\mathbf{C} \\mathbf{x}(t)\n",
    "\\end{align*}\n",
    "$$"
   ]
  },
  {
   "cell_type": "code",
   "execution_count": null,
   "metadata": {},
   "outputs": [],
   "source": [
    "from pymor.models.iosys import LTIModel\n",
    "\n",
    "A = np.random.rand(10,10)\n",
    "B = np.random.rand(10,1)\n",
    "C = np.random.rand(1,10)\n",
    "\n",
    "lti = LTIModel.from_matrices(A,B,C)"
   ]
  },
  {
   "cell_type": "code",
   "execution_count": null,
   "metadata": {},
   "outputs": [],
   "source": [
    "lti"
   ]
  },
  {
   "cell_type": "code",
   "execution_count": null,
   "metadata": {},
   "outputs": [],
   "source": [
    "lti.A"
   ]
  },
  {
   "cell_type": "markdown",
   "metadata": {},
   "source": [
    "#### What are these NumpyMatrixOperators?\n",
    "\n",
    "* #### pyMOR supports various Operators which can handle many different things\n",
    "    * #### \"Black-box\" evaluations coupled to an external PDE solver\n",
    "    * #### MPI distributed computations\n",
    "    * #### Structured matrices (banded, block, Hankel, ...)\n",
    "    * #### Nonlinear operators (e.g. quadratic $\\mathbf{N} (\\mathbf{x}(t) \\otimes \\mathbf{x}(t)$)\n",
    "    * #### Simply a numpy matrix &#8594; NumpyMatrixOperator\n",
    "* #### Operators allow for decoupling the MOR algorithms from the linear algebra backend of the large-scale model"
   ]
  },
  {
   "cell_type": "code",
   "execution_count": null,
   "metadata": {},
   "outputs": [],
   "source": [
    "lti.A.matrix"
   ]
  },
  {
   "cell_type": "code",
   "execution_count": null,
   "metadata": {},
   "outputs": [],
   "source": [
    "print(lti)"
   ]
  },
  {
   "cell_type": "markdown",
   "metadata": {},
   "source": [
    "## Rail Model"
   ]
  },
  {
   "cell_type": "code",
   "execution_count": null,
   "metadata": {
    "vscode": {
     "languageId": "plaintext"
    }
   },
   "outputs": [],
   "source": [
    "from pymor.models.iosys import LTIModel\n",
    "\n",
    "rail_fom = LTIModel.from_abcde_files('data/rail/rail_5177_c60')"
   ]
  },
  {
   "cell_type": "code",
   "execution_count": null,
   "metadata": {
    "vscode": {
     "languageId": "plaintext"
    }
   },
   "outputs": [],
   "source": [
    "rail_fom"
   ]
  },
  {
   "cell_type": "code",
   "execution_count": null,
   "metadata": {
    "vscode": {
     "languageId": "plaintext"
    }
   },
   "outputs": [],
   "source": [
    "rail_fom.A"
   ]
  },
  {
   "cell_type": "code",
   "execution_count": null,
   "metadata": {
    "vscode": {
     "languageId": "plaintext"
    }
   },
   "outputs": [],
   "source": [
    "rail_fom.A.matrix"
   ]
  },
  {
   "cell_type": "code",
   "execution_count": null,
   "metadata": {
    "vscode": {
     "languageId": "plaintext"
    }
   },
   "outputs": [],
   "source": [
    "print(rail_fom)"
   ]
  },
  {
   "cell_type": "code",
   "execution_count": null,
   "metadata": {
    "vscode": {
     "languageId": "plaintext"
    }
   },
   "outputs": [],
   "source": [
    "w = (1e-7, 1e3)\n",
    "_ = rail_fom.transfer_function.mag_plot(w)"
   ]
  },
  {
   "cell_type": "markdown",
   "metadata": {},
   "source": [
    "## Hankel Singular Values"
   ]
  },
  {
   "cell_type": "code",
   "execution_count": null,
   "metadata": {
    "vscode": {
     "languageId": "plaintext"
    }
   },
   "outputs": [],
   "source": [
    "rail_hsv = rail_fom.hsv()\n",
    "\n",
    "# %% slideshow={\"slide_type\": \"fragment\"}\n",
    "fig, ax = plt.subplots()\n",
    "_ = ax.semilogy(rail_hsv, '.')\n",
    "_ = ax.set_title('Hankel singular values')"
   ]
  },
  {
   "cell_type": "markdown",
   "metadata": {},
   "source": [
    "## Balanced Truncation"
   ]
  },
  {
   "cell_type": "code",
   "execution_count": null,
   "metadata": {
    "vscode": {
     "languageId": "plaintext"
    }
   },
   "outputs": [],
   "source": [
    "from pymor.reductors.bt import BTReductor\n",
    "\n",
    "rail_bt = BTReductor(rail_fom)\n",
    "\n",
    "rail_rom_bt = rail_bt.reduce(20)\n",
    "\n",
    "rail_rom_bt"
   ]
  },
  {
   "cell_type": "code",
   "execution_count": null,
   "metadata": {},
   "outputs": [],
   "source": [
    "rail_rom_bt.A.matrix"
   ]
  },
  {
   "cell_type": "markdown",
   "metadata": {},
   "source": [
    "## BT Poles"
   ]
  },
  {
   "cell_type": "code",
   "execution_count": null,
   "metadata": {
    "vscode": {
     "languageId": "plaintext"
    }
   },
   "outputs": [],
   "source": [
    "fig, ax = plt.subplots()\n",
    "poles = rail_rom_bt.poles()\n",
    "_ = ax.plot(poles.real, poles.imag, '.')\n",
    "_ = ax.set_title('BT poles')"
   ]
  },
  {
   "cell_type": "code",
   "execution_count": null,
   "metadata": {},
   "outputs": [],
   "source": [
    "poles.real.max()"
   ]
  },
  {
   "cell_type": "markdown",
   "metadata": {},
   "source": [
    "## FOM and BT Magnitude Plots"
   ]
  },
  {
   "cell_type": "code",
   "execution_count": null,
   "metadata": {},
   "outputs": [],
   "source": [
    "w = (1e-6, 1e3)\n",
    "_ = rail_fom.transfer_function.mag_plot(w)\n",
    "_ = rail_rom_bt.transfer_function.mag_plot(w)"
   ]
  },
  {
   "cell_type": "markdown",
   "metadata": {},
   "source": [
    "## BT Error System"
   ]
  },
  {
   "cell_type": "code",
   "execution_count": null,
   "metadata": {},
   "outputs": [],
   "source": [
    "rail_err_bt = rail_fom - rail_rom_bt"
   ]
  },
  {
   "cell_type": "code",
   "execution_count": null,
   "metadata": {},
   "outputs": [],
   "source": [
    "rail_err_bt"
   ]
  },
  {
   "cell_type": "code",
   "execution_count": null,
   "metadata": {},
   "outputs": [],
   "source": [
    "_ = rail_err_bt.transfer_function.mag_plot(w)"
   ]
  },
  {
   "cell_type": "markdown",
   "metadata": {},
   "source": [
    "## $\\mathcal{H}_2$ Relative Error"
   ]
  },
  {
   "cell_type": "code",
   "execution_count": null,
   "metadata": {
    "vscode": {
     "languageId": "plaintext"
    }
   },
   "outputs": [],
   "source": [
    "rail_err_bt.h2_norm() / rail_fom.h2_norm()"
   ]
  },
  {
   "cell_type": "code",
   "execution_count": null,
   "metadata": {},
   "outputs": [],
   "source": [
    "_ = plt.semilogy(rail_bt.error_bounds(), '.-')"
   ]
  },
  {
   "cell_type": "markdown",
   "metadata": {
    "vscode": {
     "languageId": "plaintext"
    }
   },
   "source": [
    "## IRKA"
   ]
  },
  {
   "cell_type": "code",
   "execution_count": null,
   "metadata": {
    "vscode": {
     "languageId": "plaintext"
    }
   },
   "outputs": [],
   "source": [
    "from pymor.reductors.h2 import IRKAReductor\n",
    "\n",
    "rail_irka = IRKAReductor(rail_fom)"
   ]
  },
  {
   "cell_type": "code",
   "execution_count": null,
   "metadata": {
    "vscode": {
     "languageId": "plaintext"
    }
   },
   "outputs": [],
   "source": [
    "rail_rom_irka = rail_irka.reduce(20, conv_crit='h2', tol=1e-3, num_prev=10)"
   ]
  },
  {
   "cell_type": "code",
   "execution_count": null,
   "metadata": {
    "vscode": {
     "languageId": "plaintext"
    }
   },
   "outputs": [],
   "source": [
    "rail_rom_irka"
   ]
  },
  {
   "cell_type": "markdown",
   "metadata": {
    "vscode": {
     "languageId": "plaintext"
    }
   },
   "source": [
    "## IRKA Convergence"
   ]
  },
  {
   "cell_type": "code",
   "execution_count": null,
   "metadata": {
    "vscode": {
     "languageId": "plaintext"
    }
   },
   "outputs": [],
   "source": [
    "_ = plt.semilogy(rail_irka.conv_crit, '.-')"
   ]
  },
  {
   "cell_type": "markdown",
   "metadata": {
    "vscode": {
     "languageId": "plaintext"
    }
   },
   "source": [
    "## IRKA Poles"
   ]
  },
  {
   "cell_type": "code",
   "execution_count": null,
   "metadata": {
    "vscode": {
     "languageId": "plaintext"
    }
   },
   "outputs": [],
   "source": [
    "fig, ax = plt.subplots()\n",
    "poles = rail_rom_irka.poles()\n",
    "_ = ax.plot(poles.real, poles.imag, '.')\n",
    "_ = ax.set_title('IRKA poles')\n"
   ]
  },
  {
   "cell_type": "code",
   "execution_count": null,
   "metadata": {
    "vscode": {
     "languageId": "plaintext"
    }
   },
   "outputs": [],
   "source": [
    "poles.real.max()"
   ]
  },
  {
   "cell_type": "markdown",
   "metadata": {
    "vscode": {
     "languageId": "plaintext"
    }
   },
   "source": [
    "## FOM and IRKA Magnitude Plots"
   ]
  },
  {
   "cell_type": "code",
   "execution_count": null,
   "metadata": {
    "vscode": {
     "languageId": "plaintext"
    }
   },
   "outputs": [],
   "source": [
    "w = (1e-6, 1e3)\n",
    "_ = rail_fom.transfer_function.mag_plot(w)\n",
    "_ = rail_rom_irka.transfer_function.mag_plot(w)"
   ]
  },
  {
   "cell_type": "markdown",
   "metadata": {
    "vscode": {
     "languageId": "plaintext"
    }
   },
   "source": [
    "## IRKA Error System"
   ]
  },
  {
   "cell_type": "code",
   "execution_count": null,
   "metadata": {
    "vscode": {
     "languageId": "plaintext"
    }
   },
   "outputs": [],
   "source": [
    "rail_err_irka = rail_fom - rail_rom_irka"
   ]
  },
  {
   "cell_type": "code",
   "execution_count": null,
   "metadata": {
    "vscode": {
     "languageId": "plaintext"
    }
   },
   "outputs": [],
   "source": [
    "fig, ax = plt.subplots()\n",
    "_ = rail_err_bt.transfer_function.mag_plot(w, ax=ax, label='BT')\n",
    "_ = rail_err_irka.transfer_function.mag_plot(w, ax=ax, label='IRKA')\n",
    "_ = ax.legend()"
   ]
  },
  {
   "cell_type": "markdown",
   "metadata": {
    "vscode": {
     "languageId": "plaintext"
    }
   },
   "source": [
    "## $\\mathcal{H}_2$ Relative Error"
   ]
  },
  {
   "cell_type": "code",
   "execution_count": null,
   "metadata": {
    "vscode": {
     "languageId": "plaintext"
    }
   },
   "outputs": [],
   "source": [
    "rail_err_irka.h2_norm() / rail_fom.h2_norm()"
   ]
  },
  {
   "cell_type": "markdown",
   "metadata": {
    "vscode": {
     "languageId": "plaintext"
    }
   },
   "source": [
    "## Transfer Function\n",
    "\n",
    "#### Heat equation over a semi-infinite rod from \\[Beattie/Gugercin '12\\].\n",
    "\n",
    "$$\n",
    "\\begin{align*}\n",
    "  H(s) & = e^{-\\sqrt{s}} \\\\\n",
    "  H'(s) & = -\\frac{e^{-\\sqrt{s}}}{2 \\sqrt{s}}\n",
    "\\end{align*}\n",
    "$$"
   ]
  },
  {
   "cell_type": "code",
   "execution_count": null,
   "metadata": {
    "vscode": {
     "languageId": "plaintext"
    }
   },
   "outputs": [],
   "source": [
    "from pymor.models.transfer_function import TransferFunction\n",
    "\n",
    "def H(s):\n",
    "    return np.array([[np.exp(-np.sqrt(s))]])\n",
    "\n",
    "def dH(s):\n",
    "    return np.array([[-np.exp(-np.sqrt(s)) / (2 * np.sqrt(s))]])\n",
    "\n",
    "tf = TransferFunction(\n",
    "    1,\n",
    "    1,\n",
    "    H,\n",
    "    dH,\n",
    ")"
   ]
  },
  {
   "cell_type": "code",
   "execution_count": null,
   "metadata": {
    "vscode": {
     "languageId": "plaintext"
    }
   },
   "outputs": [],
   "source": [
    "tf"
   ]
  },
  {
   "cell_type": "markdown",
   "metadata": {
    "vscode": {
     "languageId": "plaintext"
    }
   },
   "source": [
    "## Bode Plot"
   ]
  },
  {
   "cell_type": "code",
   "execution_count": null,
   "metadata": {
    "vscode": {
     "languageId": "plaintext"
    }
   },
   "outputs": [],
   "source": [
    "w_tf = (1e-7, 1e4)\n",
    "fig, ax = plt.subplots(2, 1, figsize=(6, 6), sharex=True, squeeze=False, constrained_layout=True)\n",
    "_ = tf.bode_plot(w_tf, ax=ax)\n"
   ]
  },
  {
   "cell_type": "markdown",
   "metadata": {
    "vscode": {
     "languageId": "plaintext"
    }
   },
   "source": [
    "## TF-IRKA"
   ]
  },
  {
   "cell_type": "code",
   "execution_count": null,
   "metadata": {
    "vscode": {
     "languageId": "plaintext"
    }
   },
   "outputs": [],
   "source": [
    "from pymor.reductors.h2 import TFIRKAReductor\n",
    "\n",
    "tf_irka = TFIRKAReductor(tf)"
   ]
  },
  {
   "cell_type": "code",
   "execution_count": null,
   "metadata": {
    "vscode": {
     "languageId": "plaintext"
    }
   },
   "outputs": [],
   "source": [
    "tf_rom = tf_irka.reduce(20)"
   ]
  },
  {
   "cell_type": "code",
   "execution_count": null,
   "metadata": {
    "vscode": {
     "languageId": "plaintext"
    }
   },
   "outputs": [],
   "source": [
    "tf_rom"
   ]
  },
  {
   "cell_type": "markdown",
   "metadata": {
    "vscode": {
     "languageId": "plaintext"
    }
   },
   "source": [
    "## TF-IRKA Poles"
   ]
  },
  {
   "cell_type": "code",
   "execution_count": null,
   "metadata": {
    "vscode": {
     "languageId": "plaintext"
    }
   },
   "outputs": [],
   "source": [
    "fig, ax = plt.subplots()\n",
    "poles = tf_rom.poles()\n",
    "_ = ax.plot(poles.real, poles.imag, '.')\n",
    "_ = ax.set_title('IRKA poles')"
   ]
  },
  {
   "cell_type": "code",
   "execution_count": null,
   "metadata": {
    "vscode": {
     "languageId": "plaintext"
    }
   },
   "outputs": [],
   "source": [
    "poles.real.max()"
   ]
  },
  {
   "cell_type": "markdown",
   "metadata": {
    "vscode": {
     "languageId": "plaintext"
    }
   },
   "source": [
    "## Bode Plots"
   ]
  },
  {
   "cell_type": "code",
   "execution_count": null,
   "metadata": {
    "vscode": {
     "languageId": "plaintext"
    }
   },
   "outputs": [],
   "source": [
    "fig, ax = plt.subplots(2, 1, figsize=(6, 6), sharex=True, squeeze=False, constrained_layout=True)\n",
    "_ = tf.bode_plot(w_tf, ax=ax)\n",
    "_ = tf_rom.transfer_function.bode_plot(w_tf, ax=ax)"
   ]
  },
  {
   "cell_type": "markdown",
   "metadata": {
    "vscode": {
     "languageId": "plaintext"
    }
   },
   "source": [
    "## Error System"
   ]
  },
  {
   "cell_type": "code",
   "execution_count": null,
   "metadata": {
    "vscode": {
     "languageId": "plaintext"
    }
   },
   "outputs": [],
   "source": [
    "tf_err = tf - tf_rom"
   ]
  },
  {
   "cell_type": "code",
   "execution_count": null,
   "metadata": {},
   "outputs": [],
   "source": [
    "tf_err"
   ]
  },
  {
   "cell_type": "code",
   "execution_count": null,
   "metadata": {
    "vscode": {
     "languageId": "plaintext"
    }
   },
   "outputs": [],
   "source": [
    "_ = tf_err.mag_plot(w_tf)"
   ]
  },
  {
   "cell_type": "markdown",
   "metadata": {
    "vscode": {
     "languageId": "plaintext"
    }
   },
   "source": [
    "## Loewner"
   ]
  },
  {
   "cell_type": "code",
   "execution_count": null,
   "metadata": {
    "vscode": {
     "languageId": "plaintext"
    }
   },
   "outputs": [],
   "source": [
    "from pymor.reductors.loewner import LoewnerReductor\n",
    "\n",
    "sampling_values = 1j * np.logspace(-4, 2, 100)\n",
    "sampling_values = np.concatenate((sampling_values, -sampling_values))\n",
    "loewner = LoewnerReductor(sampling_values, tf)"
   ]
  },
  {
   "cell_type": "code",
   "execution_count": null,
   "metadata": {
    "vscode": {
     "languageId": "plaintext"
    }
   },
   "outputs": [],
   "source": [
    "loewner_rom = loewner.reduce(r=20)"
   ]
  },
  {
   "cell_type": "code",
   "execution_count": null,
   "metadata": {
    "vscode": {
     "languageId": "plaintext"
    }
   },
   "outputs": [],
   "source": [
    "loewner_rom"
   ]
  },
  {
   "cell_type": "code",
   "execution_count": null,
   "metadata": {},
   "outputs": [],
   "source": [
    "L, _, _, _ = loewner.loewner_quadruple()\n",
    "_, S, _ = spla.svd(L)\n",
    "\n",
    "plt.semilogy(S/S[0])"
   ]
  },
  {
   "cell_type": "markdown",
   "metadata": {
    "vscode": {
     "languageId": "plaintext"
    }
   },
   "source": [
    "## Bode Plots"
   ]
  },
  {
   "cell_type": "code",
   "execution_count": null,
   "metadata": {
    "vscode": {
     "languageId": "plaintext"
    }
   },
   "outputs": [],
   "source": [
    "fig, ax = plt.subplots(2, 1, squeeze=False, constrained_layout=True)\n",
    "_ = tf.bode_plot(w_tf, ax=ax)\n",
    "_ = tf_rom.transfer_function.bode_plot(w_tf, ax=ax)\n",
    "_ = loewner_rom.transfer_function.bode_plot(w_tf, ax=ax)"
   ]
  },
  {
   "cell_type": "markdown",
   "metadata": {
    "vscode": {
     "languageId": "plaintext"
    }
   },
   "source": [
    "## Error System"
   ]
  },
  {
   "cell_type": "code",
   "execution_count": null,
   "metadata": {
    "vscode": {
     "languageId": "plaintext"
    }
   },
   "outputs": [],
   "source": [
    "loewner_err = tf - loewner_rom"
   ]
  },
  {
   "cell_type": "code",
   "execution_count": null,
   "metadata": {
    "vscode": {
     "languageId": "plaintext"
    }
   },
   "outputs": [],
   "source": [
    "fig, ax = plt.subplots()\n",
    "_ = tf_err.mag_plot(w_tf, ax=ax, label='TF-IRKA')\n",
    "_ = loewner_err.mag_plot(w_tf, ax=ax, label='Loewner')\n",
    "_ = ax.legend()"
   ]
  },
  {
   "cell_type": "markdown",
   "metadata": {
    "vscode": {
     "languageId": "plaintext"
    }
   },
   "source": [
    "## Parametric LTI Models\n",
    "\n",
    "#### Cookie model (thermal block) example from [MOR Wiki](https://morwiki.mpi-magdeburg.mpg.de/morwiki/index.php/Thermal_Block).\n"
   ]
  },
  {
   "cell_type": "code",
   "execution_count": null,
   "metadata": {
    "vscode": {
     "languageId": "plaintext"
    }
   },
   "outputs": [],
   "source": [
    "import scipy.io as spio\n",
    "\n",
    "mat = spio.loadmat('data/cookie/ABCE.mat')"
   ]
  },
  {
   "cell_type": "code",
   "execution_count": null,
   "metadata": {
    "vscode": {
     "languageId": "plaintext"
    }
   },
   "outputs": [],
   "source": [
    "mat.keys()"
   ]
  },
  {
   "cell_type": "code",
   "execution_count": null,
   "metadata": {
    "vscode": {
     "languageId": "plaintext"
    }
   },
   "outputs": [],
   "source": [
    "A0 = mat['A0']\n",
    "A1 = 0.2 * mat['A1'] + 0.4 * mat['A2'] + 0.6 * mat['A3'] + 0.8 * mat['A4']\n",
    "B = mat['B']\n",
    "C = mat['C']\n",
    "E = mat['E']"
   ]
  },
  {
   "cell_type": "code",
   "execution_count": null,
   "metadata": {
    "vscode": {
     "languageId": "plaintext"
    }
   },
   "outputs": [],
   "source": [
    "A0"
   ]
  },
  {
   "cell_type": "code",
   "execution_count": null,
   "metadata": {
    "vscode": {
     "languageId": "plaintext"
    }
   },
   "outputs": [],
   "source": [
    "from pymor.operators.numpy import NumpyMatrixOperator\n",
    "\n",
    "A0op = NumpyMatrixOperator(A0)\n",
    "A1op = NumpyMatrixOperator(A1)\n",
    "Bop = NumpyMatrixOperator(B)\n",
    "Cop = NumpyMatrixOperator(C)\n",
    "Eop = NumpyMatrixOperator(E)"
   ]
  },
  {
   "cell_type": "code",
   "execution_count": null,
   "metadata": {
    "vscode": {
     "languageId": "plaintext"
    }
   },
   "outputs": [],
   "source": [
    "A0op"
   ]
  },
  {
   "cell_type": "code",
   "execution_count": null,
   "metadata": {
    "vscode": {
     "languageId": "plaintext"
    }
   },
   "outputs": [],
   "source": [
    "from pymor.parameters.functionals import ProjectionParameterFunctional\n",
    "\n",
    "Aop = A0op + ProjectionParameterFunctional('p') * A1op"
   ]
  },
  {
   "cell_type": "code",
   "execution_count": null,
   "metadata": {
    "vscode": {
     "languageId": "plaintext"
    }
   },
   "outputs": [],
   "source": [
    "Aop"
   ]
  },
  {
   "cell_type": "code",
   "execution_count": null,
   "metadata": {
    "vscode": {
     "languageId": "plaintext"
    }
   },
   "outputs": [],
   "source": [
    "cookie_fom = LTIModel(Aop, Bop, Cop, E=Eop)"
   ]
  },
  {
   "cell_type": "code",
   "execution_count": null,
   "metadata": {
    "vscode": {
     "languageId": "plaintext"
    }
   },
   "outputs": [],
   "source": [
    "cookie_fom"
   ]
  },
  {
   "cell_type": "code",
   "execution_count": null,
   "metadata": {
    "vscode": {
     "languageId": "plaintext"
    }
   },
   "outputs": [],
   "source": [
    "cookie_fom.parameters"
   ]
  },
  {
   "cell_type": "markdown",
   "metadata": {
    "vscode": {
     "languageId": "plaintext"
    }
   },
   "source": [
    "## Magnitude Plot"
   ]
  },
  {
   "cell_type": "code",
   "execution_count": null,
   "metadata": {
    "vscode": {
     "languageId": "plaintext"
    }
   },
   "outputs": [],
   "source": [
    "num_w = 10\n",
    "num_p = 10\n",
    "ws = np.logspace(-4, 4, num_w)\n",
    "ps = np.logspace(-6, 2, num_p)\n",
    "Hwp = np.empty((num_p, num_w))\n",
    "for i in range(num_p):\n",
    "    Hwp[i] = spla.norm(cookie_fom.transfer_function.freq_resp(ws, mu=ps[i]), axis=(1, 2))"
   ]
  },
  {
   "cell_type": "code",
   "execution_count": null,
   "metadata": {
    "vscode": {
     "languageId": "plaintext"
    }
   },
   "outputs": [],
   "source": [
    "from matplotlib.colors import LogNorm\n",
    "\n",
    "lognorm = LogNorm(vmin=9e-11, vmax=2)\n",
    "\n",
    "fig, ax = plt.subplots()\n",
    "out = ax.pcolormesh(ws, ps, Hwp, shading='gouraud', norm=lognorm)\n",
    "ax.set(\n",
    "    xscale='log',\n",
    "    yscale='log',\n",
    "    xlabel=r'Frequency $\\omega$ (rad/s)',\n",
    "    ylabel='Parameter $p$',\n",
    "    title=r'$\\Vert H(i \\omega, p) \\Vert$',\n",
    ")\n",
    "ax.grid(False)\n",
    "_ = fig.colorbar(out)\n"
   ]
  },
  {
   "cell_type": "markdown",
   "metadata": {},
   "source": [
    "## Interpolation"
   ]
  },
  {
   "cell_type": "code",
   "execution_count": null,
   "metadata": {
    "vscode": {
     "languageId": "plaintext"
    }
   },
   "outputs": [],
   "source": [
    "from pymor.algorithms.gram_schmidt import gram_schmidt\n",
    "from pymor.reductors.interpolation import LTIBHIReductor\n",
    "\n",
    "s_samples = np.logspace(-1, 1, 5)\n",
    "s_samples = np.concatenate((1j * s_samples, -1j * s_samples))\n",
    "p_samples = np.logspace(-3, -1, 5)\n",
    "V = cookie_fom.A.source.empty()\n",
    "W = cookie_fom.A.source.empty()\n",
    "for p in p_samples:\n",
    "    interp = LTIBHIReductor(cookie_fom, mu=p)\n",
    "    interp.reduce(s_samples, np.ones((len(s_samples), 1)), np.ones((len(s_samples), 4)))\n",
    "    V.append(interp.V)\n",
    "    W.append(interp.W)\n",
    "\n",
    "_ = gram_schmidt(V, copy=False)\n",
    "_ = gram_schmidt(W, copy=False)\n"
   ]
  },
  {
   "cell_type": "code",
   "execution_count": null,
   "metadata": {
    "vscode": {
     "languageId": "plaintext"
    }
   },
   "outputs": [],
   "source": [
    "V"
   ]
  },
  {
   "cell_type": "code",
   "execution_count": null,
   "metadata": {
    "vscode": {
     "languageId": "plaintext"
    }
   },
   "outputs": [],
   "source": [
    "from pymor.reductors.basic import LTIPGReductor\n",
    "\n",
    "pg = LTIPGReductor(cookie_fom, W, V)\n",
    "cookie_rom = pg.reduce()"
   ]
  },
  {
   "cell_type": "code",
   "execution_count": null,
   "metadata": {
    "vscode": {
     "languageId": "plaintext"
    }
   },
   "outputs": [],
   "source": [
    "cookie_rom"
   ]
  },
  {
   "cell_type": "markdown",
   "metadata": {
    "vscode": {
     "languageId": "plaintext"
    }
   },
   "source": [
    "## Error System"
   ]
  },
  {
   "cell_type": "code",
   "execution_count": null,
   "metadata": {
    "vscode": {
     "languageId": "plaintext"
    }
   },
   "outputs": [],
   "source": [
    "cookie_err = cookie_fom - cookie_rom"
   ]
  },
  {
   "cell_type": "code",
   "execution_count": null,
   "metadata": {
    "vscode": {
     "languageId": "plaintext"
    }
   },
   "outputs": [],
   "source": [
    "Hwp_err = np.empty((num_p, num_w))\n",
    "for i in range(num_p):\n",
    "    Hwp_err[i] = spla.norm(cookie_err.transfer_function.freq_resp(ws, mu=ps[i]), axis=(1, 2))\n"
   ]
  },
  {
   "cell_type": "code",
   "execution_count": null,
   "metadata": {
    "vscode": {
     "languageId": "plaintext"
    }
   },
   "outputs": [],
   "source": [
    "fig, ax = plt.subplots()\n",
    "out = ax.pcolormesh(ws, ps, Hwp_err, shading='gouraud', norm=lognorm)\n",
    "ax.set(\n",
    "    xscale='log',\n",
    "    yscale='log',\n",
    "    xlabel=r'Frequency $\\omega$ (rad/s)',\n",
    "    ylabel='Parameter $p$',\n",
    "    title=r'$\\Vert H(i \\omega, p) - H_r(i \\omega, p) \\Vert$',\n",
    ")\n",
    "ax.grid(False)\n",
    "_ = fig.colorbar(out)\n"
   ]
  },
  {
   "cell_type": "markdown",
   "metadata": {
    "vscode": {
     "languageId": "plaintext"
    }
   },
   "source": [
    "## ROM Poles"
   ]
  },
  {
   "cell_type": "code",
   "execution_count": null,
   "metadata": {
    "vscode": {
     "languageId": "plaintext"
    }
   },
   "outputs": [],
   "source": [
    "for p in ps:\n",
    "    poles = cookie_rom.poles(mu=p)\n",
    "    print(poles.real.max())"
   ]
  },
  {
   "cell_type": "markdown",
   "metadata": {
    "vscode": {
     "languageId": "plaintext"
    }
   },
   "source": [
    "## Galerkin Projection"
   ]
  },
  {
   "cell_type": "code",
   "execution_count": null,
   "metadata": {
    "vscode": {
     "languageId": "plaintext"
    }
   },
   "outputs": [],
   "source": [
    "from pymor.algorithms.pod import pod\n",
    "\n",
    "VW = V.copy()\n",
    "VW.append(W)\n",
    "VW, svals = pod(VW)"
   ]
  },
  {
   "cell_type": "code",
   "execution_count": null,
   "metadata": {
    "vscode": {
     "languageId": "plaintext"
    }
   },
   "outputs": [],
   "source": [
    "VW"
   ]
  },
  {
   "cell_type": "code",
   "execution_count": null,
   "metadata": {
    "vscode": {
     "languageId": "plaintext"
    }
   },
   "outputs": [],
   "source": [
    "galerkin = LTIPGReductor(cookie_fom, VW, VW)\n",
    "cookie_rom_g = galerkin.reduce()"
   ]
  },
  {
   "cell_type": "markdown",
   "metadata": {
    "vscode": {
     "languageId": "plaintext"
    }
   },
   "source": [
    "## Error System 2"
   ]
  },
  {
   "cell_type": "code",
   "execution_count": null,
   "metadata": {
    "vscode": {
     "languageId": "plaintext"
    }
   },
   "outputs": [],
   "source": [
    "cookie_err2 = cookie_fom - cookie_rom_g"
   ]
  },
  {
   "cell_type": "code",
   "execution_count": null,
   "metadata": {
    "vscode": {
     "languageId": "plaintext"
    }
   },
   "outputs": [],
   "source": [
    "Hwp_err2 = np.empty((num_p, num_w))\n",
    "for i in range(num_p):\n",
    "    Hwp_err2[i] = spla.norm(cookie_err2.transfer_function.freq_resp(ws, mu=ps[i]), axis=(1, 2))\n"
   ]
  },
  {
   "cell_type": "code",
   "execution_count": null,
   "metadata": {
    "vscode": {
     "languageId": "plaintext"
    }
   },
   "outputs": [],
   "source": [
    "fig, ax = plt.subplots()\n",
    "out = ax.pcolormesh(ws, ps, Hwp_err2, shading='gouraud', norm=lognorm)\n",
    "ax.set(\n",
    "    xscale='log',\n",
    "    yscale='log',\n",
    "    xlabel=r'Frequency $\\omega$ (rad/s)',\n",
    "    ylabel='Parameter $p$',\n",
    "    title=r'$\\Vert H(i \\omega, p) - H_r(i \\omega, p) \\Vert$',\n",
    ")\n",
    "ax.grid(False)\n",
    "_ = fig.colorbar(out)\n"
   ]
  },
  {
   "cell_type": "markdown",
   "metadata": {
    "vscode": {
     "languageId": "plaintext"
    }
   },
   "source": [
    "## ROM Poles 2"
   ]
  },
  {
   "cell_type": "code",
   "execution_count": null,
   "metadata": {
    "vscode": {
     "languageId": "plaintext"
    }
   },
   "outputs": [],
   "source": [
    "for p in ps:\n",
    "    poles = cookie_rom_g.poles(mu=p)\n",
    "    print(poles.real.max())"
   ]
  },
  {
   "cell_type": "markdown",
   "metadata": {
    "vscode": {
     "languageId": "plaintext"
    }
   },
   "source": [
    "## Concluding Remarks"
   ]
  },
  {
   "cell_type": "markdown",
   "metadata": {
    "vscode": {
     "languageId": "plaintext"
    }
   },
   "source": [
    "### Further MOR Methods\n",
    "\n",
    "- #### nonlinear systems\n",
    "- #### DEIM\n",
    "- #### second-order systems\n",
    "- #### time-delay systems\n",
    "- #### modal truncation\n",
    "- #### data-driven methods (p-AAA, Loewner, neural network based ROMs, ...)\n"
   ]
  },
  {
   "cell_type": "markdown",
   "metadata": {
    "vscode": {
     "languageId": "plaintext"
    }
   },
   "source": [
    "## Using pyMOR\n",
    "\n",
    "- #### installation: https://github.com/pymor/pymor#readme\n",
    "- #### documentation: https://docs.pymor.org\n",
    "- #### GitHub issues: https://github.com/pymor/pymor/issues\n",
    "- #### GitHub discussions: https://github.com/pymor/pymor/discussions\n",
    "- #### pyMOR community meetings: https://github.com/pymor/pymor/discussions/categories/announcements\n",
    "- #### pyMOR School: https://school.pymor.org\n"
   ]
  },
  {
   "cell_type": "markdown",
   "metadata": {
    "vscode": {
     "languageId": "plaintext"
    }
   },
   "source": [
    "## Contributing to pyMOR\n",
    "\n",
    "- #### developer documentation: https://docs.pymor.org/latest/developer_docs.html\n",
    "- #### get attribution via `AUTHORS.md`\n",
    "- #### become contributor with push access to feature branches\n",
    "- #### become main developer with full control over the project\n"
   ]
  },
  {
   "cell_type": "code",
   "execution_count": null,
   "metadata": {},
   "outputs": [],
   "source": []
  }
 ],
 "metadata": {
  "kernelspec": {
   "display_name": "Python 3 (ipykernel)",
   "language": "python",
   "name": "python3"
  },
  "language_info": {
   "codemirror_mode": {
    "name": "ipython",
    "version": 3
   },
   "file_extension": ".py",
   "mimetype": "text/x-python",
   "name": "python",
   "nbconvert_exporter": "python",
   "pygments_lexer": "ipython3",
   "version": "3.10.15"
  }
 },
 "nbformat": 4,
 "nbformat_minor": 4
}
